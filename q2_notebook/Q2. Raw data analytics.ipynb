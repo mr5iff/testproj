{
 "cells": [
  {
   "cell_type": "code",
   "execution_count": 15,
   "metadata": {},
   "outputs": [],
   "source": [
    "import pandas as pd\n",
    "import datetime"
   ]
  },
  {
   "cell_type": "code",
   "execution_count": 7,
   "metadata": {},
   "outputs": [],
   "source": [
    "df = pd.read_csv('./data.log', delimiter='\\t')"
   ]
  },
  {
   "cell_type": "code",
   "execution_count": 8,
   "metadata": {},
   "outputs": [
    {
     "data": {
      "text/html": [
       "<div>\n",
       "<style>\n",
       "    .dataframe thead tr:only-child th {\n",
       "        text-align: right;\n",
       "    }\n",
       "\n",
       "    .dataframe thead th {\n",
       "        text-align: left;\n",
       "    }\n",
       "\n",
       "    .dataframe tbody tr th {\n",
       "        vertical-align: top;\n",
       "    }\n",
       "</style>\n",
       "<table border=\"1\" class=\"dataframe\">\n",
       "  <thead>\n",
       "    <tr style=\"text-align: right;\">\n",
       "      <th></th>\n",
       "      <th># date</th>\n",
       "      <th>time</th>\n",
       "      <th>size</th>\n",
       "      <th>url</th>\n",
       "    </tr>\n",
       "  </thead>\n",
       "  <tbody>\n",
       "    <tr>\n",
       "      <th>0</th>\n",
       "      <td>2017-08-24</td>\n",
       "      <td>10:28:13</td>\n",
       "      <td>13500</td>\n",
       "      <td>/media/thumbnail/fd1140af02.jpg</td>\n",
       "    </tr>\n",
       "    <tr>\n",
       "      <th>1</th>\n",
       "      <td>2017-08-24</td>\n",
       "      <td>10:28:13</td>\n",
       "      <td>7050</td>\n",
       "      <td>/media/thumbnail/8b527f7ca8.jpg</td>\n",
       "    </tr>\n",
       "    <tr>\n",
       "      <th>2</th>\n",
       "      <td>2017-08-24</td>\n",
       "      <td>10:28:13</td>\n",
       "      <td>18400</td>\n",
       "      <td>/media/thumbnail/b2670bc44f.jpg</td>\n",
       "    </tr>\n",
       "    <tr>\n",
       "      <th>3</th>\n",
       "      <td>2017-08-24</td>\n",
       "      <td>10:28:14</td>\n",
       "      <td>6543</td>\n",
       "      <td>/media/thumbnail/bdb3b41b8b.jpg</td>\n",
       "    </tr>\n",
       "    <tr>\n",
       "      <th>4</th>\n",
       "      <td>2017-08-24</td>\n",
       "      <td>10:28:14</td>\n",
       "      <td>150</td>\n",
       "      <td>/media/main.js</td>\n",
       "    </tr>\n",
       "    <tr>\n",
       "      <th>5</th>\n",
       "      <td>2017-08-24</td>\n",
       "      <td>10:28:15</td>\n",
       "      <td>24130</td>\n",
       "      <td>/media/thumbnail/8124c8c648.jpg</td>\n",
       "    </tr>\n",
       "    <tr>\n",
       "      <th>6</th>\n",
       "      <td>2017-08-24</td>\n",
       "      <td>10:28:17</td>\n",
       "      <td>3401</td>\n",
       "      <td>/media/thumbnail/2ab5f8593a.jpg</td>\n",
       "    </tr>\n",
       "    <tr>\n",
       "      <th>7</th>\n",
       "      <td>2017-08-24</td>\n",
       "      <td>10:28:17</td>\n",
       "      <td>5017</td>\n",
       "      <td>/media/thumbnail/64f6312f93.jpg</td>\n",
       "    </tr>\n",
       "    <tr>\n",
       "      <th>8</th>\n",
       "      <td>2017-08-24</td>\n",
       "      <td>10:28:17</td>\n",
       "      <td>7210</td>\n",
       "      <td>/media/thumbnail/458f99f4d3.jpg</td>\n",
       "    </tr>\n",
       "    <tr>\n",
       "      <th>9</th>\n",
       "      <td>2017-08-24</td>\n",
       "      <td>10:28:17</td>\n",
       "      <td>10</td>\n",
       "      <td>/media/style.css</td>\n",
       "    </tr>\n",
       "  </tbody>\n",
       "</table>\n",
       "</div>"
      ],
      "text/plain": [
       "       # date      time   size                              url\n",
       "0  2017-08-24  10:28:13  13500  /media/thumbnail/fd1140af02.jpg\n",
       "1  2017-08-24  10:28:13   7050  /media/thumbnail/8b527f7ca8.jpg\n",
       "2  2017-08-24  10:28:13  18400  /media/thumbnail/b2670bc44f.jpg\n",
       "3  2017-08-24  10:28:14   6543  /media/thumbnail/bdb3b41b8b.jpg\n",
       "4  2017-08-24  10:28:14    150                   /media/main.js\n",
       "5  2017-08-24  10:28:15  24130  /media/thumbnail/8124c8c648.jpg\n",
       "6  2017-08-24  10:28:17   3401  /media/thumbnail/2ab5f8593a.jpg\n",
       "7  2017-08-24  10:28:17   5017  /media/thumbnail/64f6312f93.jpg\n",
       "8  2017-08-24  10:28:17   7210  /media/thumbnail/458f99f4d3.jpg\n",
       "9  2017-08-24  10:28:17     10                 /media/style.css"
      ]
     },
     "execution_count": 8,
     "metadata": {},
     "output_type": "execute_result"
    }
   ],
   "source": [
    "df"
   ]
  },
  {
   "cell_type": "code",
   "execution_count": 10,
   "metadata": {},
   "outputs": [
    {
     "name": "stdout",
     "output_type": "stream",
     "text": [
      "<class 'pandas.core.frame.DataFrame'>\n",
      "RangeIndex: 10 entries, 0 to 9\n",
      "Data columns (total 4 columns):\n",
      "# date    10 non-null object\n",
      "time      10 non-null object\n",
      "size      10 non-null int64\n",
      "url       10 non-null object\n",
      "dtypes: int64(1), object(3)\n",
      "memory usage: 400.0+ bytes\n"
     ]
    }
   ],
   "source": [
    "df.info()"
   ]
  },
  {
   "cell_type": "code",
   "execution_count": 11,
   "metadata": {},
   "outputs": [],
   "source": [
    "df['# date'] = pd.to_datetime(df['# date'])"
   ]
  },
  {
   "cell_type": "code",
   "execution_count": 13,
   "metadata": {},
   "outputs": [
    {
     "name": "stdout",
     "output_type": "stream",
     "text": [
      "<class 'pandas.core.frame.DataFrame'>\n",
      "RangeIndex: 10 entries, 0 to 9\n",
      "Data columns (total 4 columns):\n",
      "# date    10 non-null datetime64[ns]\n",
      "time      10 non-null object\n",
      "size      10 non-null int64\n",
      "url       10 non-null object\n",
      "dtypes: datetime64[ns](1), int64(1), object(2)\n",
      "memory usage: 400.0+ bytes\n"
     ]
    }
   ],
   "source": [
    "df.info()"
   ]
  },
  {
   "cell_type": "markdown",
   "metadata": {},
   "source": [
    "### Sum of the file size of individual request caused by JPEG files from 24th Aug to 25th Aug"
   ]
  },
  {
   "cell_type": "code",
   "execution_count": 18,
   "metadata": {},
   "outputs": [
    {
     "data": {
      "text/plain": [
       "85251"
      ]
     },
     "execution_count": 18,
     "metadata": {},
     "output_type": "execute_result"
    }
   ],
   "source": [
    "df[(df['url'].str.endswith('.jpg') & \n",
    "    (df['# date'] >= datetime.date(2017, 8, 24)) & \n",
    "    (df['# date'] <= datetime.date(2017, 8, 25)))]['size'].sum()"
   ]
  },
  {
   "cell_type": "code",
   "execution_count": null,
   "metadata": {},
   "outputs": [],
   "source": []
  }
 ],
 "metadata": {
  "kernelspec": {
   "display_name": "Python 3",
   "language": "python",
   "name": "python3"
  },
  "language_info": {
   "codemirror_mode": {
    "name": "ipython",
    "version": 3
   },
   "file_extension": ".py",
   "mimetype": "text/x-python",
   "name": "python",
   "nbconvert_exporter": "python",
   "pygments_lexer": "ipython3",
   "version": "3.6.3"
  }
 },
 "nbformat": 4,
 "nbformat_minor": 2
}
